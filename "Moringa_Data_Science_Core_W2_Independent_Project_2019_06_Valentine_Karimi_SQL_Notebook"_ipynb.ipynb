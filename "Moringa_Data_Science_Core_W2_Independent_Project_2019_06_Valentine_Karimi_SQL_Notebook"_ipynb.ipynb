{
  "nbformat": 4,
  "nbformat_minor": 0,
  "metadata": {
    "colab": {
      "name": "\"Moringa_Data_Science_Core_W2_Independent_Project_2019_06_Valentine_Karimi_SQL_Notebook\".ipynb.ipynb",
      "provenance": [],
      "collapsed_sections": [
        "6LCuEK6N4yDs",
        "6FRT44Lc5AcL",
        "Gt3VUfoo5bgb"
      ],
      "authorship_tag": "ABX9TyNRShl0nbjOPd3mDEwuG3PY",
      "include_colab_link": true
    },
    "kernelspec": {
      "name": "python3",
      "display_name": "Python 3"
    }
  },
  "cells": [
    {
      "cell_type": "markdown",
      "metadata": {
        "id": "view-in-github",
        "colab_type": "text"
      },
      "source": [
        "<a href=\"https://colab.research.google.com/github/ValentineKarimi/MoringaDataScienceCoreWeek2IP/blob/master/%22Moringa_Data_Science_Core_W2_Independent_Project_2019_06_Valentine_Karimi_SQL_Notebook%22_ipynb.ipynb\" target=\"_parent\"><img src=\"https://colab.research.google.com/assets/colab-badge.svg\" alt=\"Open In Colab\"/></a>"
      ]
    },
    {
      "cell_type": "markdown",
      "metadata": {
        "id": "AUn6bYv9ie8t",
        "colab_type": "text"
      },
      "source": [
        "# Defining the Question"
      ]
    },
    {
      "cell_type": "markdown",
      "metadata": {
        "id": "ymhY9iX2vOyA",
        "colab_type": "text"
      },
      "source": [
        "\n",
        "**a) Specifying the Data Analytic Question**\n",
        "\n",
        "Predict which individuals are most likely to have or use a bank account. \n",
        "\n",
        "**b) Defining the Metric for Success**\n",
        "\n",
        "*   Get to predict which individuals are most likely to have or use a bank account\n",
        "*   Get the indicators of Financial inclusion in the 3 countries.\n",
        "\n",
        "**c) Understanding the context**\n",
        "\n",
        "Financial Inclusion remains one of the main obstacles to economic and human development in Africa. For example, across Kenya, Rwanda, Tanzania, and Uganda only 9.1 million adults (or 13.9% of the adult population) have access to or use a commercial bank account.\n",
        "\n",
        "Traditionally, access to bank accounts has been regarded as an indicator of financial inclusion. Despite the proliferation of mobile money in Africa and the growth of innovative fintech solutions, banks still play a pivotal role in facilitating access to financial services. Access to bank accounts enables households to save and facilitate payments while also helping businesses build up their credit-worthiness and improve their access to other financial services. Therefore, access to bank accounts is an essential contributor to long-term economic growth.\n",
        "\n",
        "Doing the research will help provide an indication of the state of financial inclusion in Kenya, Rwanda, Tanzania, and Uganda, while providing insights into some of the key demographic factors that might drive individuals’ financial outcomes.\n",
        "\n",
        "**d) Recording the Experimental Design**\n",
        "\n",
        "1. Reading the Data \n",
        "2. Checking the Data\n",
        "3. External Data Source Validation\n",
        "4. Tidying the Dataset\n",
        "5. Cental measures of Dispersions\n",
        "6. Exploratory Analysis\n",
        "7. Implementing the Solution\n",
        "8. Challenging the solution\n",
        "9. Follow-up questions \n",
        "\n",
        "**e) Data Relevance**\n",
        "\n",
        "\n",
        " All the variables given are releveant to know the bank accounts predictions "
      ]
    },
    {
      "cell_type": "markdown",
      "metadata": {
        "id": "nUKfHL7UUuKh",
        "colab_type": "text"
      },
      "source": [
        "# Data Analysis"
      ]
    },
    {
      "cell_type": "markdown",
      "metadata": {
        "id": "b8hxpCrQcM8b",
        "colab_type": "text"
      },
      "source": [
        "# Reading the data "
      ]
    },
    {
      "cell_type": "code",
      "metadata": {
        "id": "89RkhHdbUu4X",
        "colab_type": "code",
        "colab": {}
      },
      "source": [
        "# Loading and installing python libraries needed \n",
        "\n",
        "import pandas as pd\n",
        "import numpy as np\n",
        "import matplotlib.pyplot as plt\n",
        "import seaborn as sns\n",
        "\n",
        "\n"
      ],
      "execution_count": 426,
      "outputs": []
    },
    {
      "cell_type": "code",
      "metadata": {
        "id": "hqCu9Ll155LY",
        "colab_type": "code",
        "colab": {
          "base_uri": "https://localhost:8080/",
          "height": 0
        },
        "outputId": "17fcb3d2-ced5-4f5b-ec23-78f5fe9d487d"
      },
      "source": [
        "# Loading the Data from the source i.e. csv\n",
        "finance = pd.read_csv('http://bit.ly/FinancialDataset')\n",
        "finance.head()"
      ],
      "execution_count": 427,
      "outputs": [
        {
          "output_type": "execute_result",
          "data": {
            "text/html": [
              "<div>\n",
              "<style scoped>\n",
              "    .dataframe tbody tr th:only-of-type {\n",
              "        vertical-align: middle;\n",
              "    }\n",
              "\n",
              "    .dataframe tbody tr th {\n",
              "        vertical-align: top;\n",
              "    }\n",
              "\n",
              "    .dataframe thead th {\n",
              "        text-align: right;\n",
              "    }\n",
              "</style>\n",
              "<table border=\"1\" class=\"dataframe\">\n",
              "  <thead>\n",
              "    <tr style=\"text-align: right;\">\n",
              "      <th></th>\n",
              "      <th>country</th>\n",
              "      <th>year</th>\n",
              "      <th>uniqueid</th>\n",
              "      <th>Has a Bank account</th>\n",
              "      <th>Type of Location</th>\n",
              "      <th>Cell Phone Access</th>\n",
              "      <th>household_size</th>\n",
              "      <th>Respondent Age</th>\n",
              "      <th>gender_of_respondent</th>\n",
              "      <th>The relathip with head</th>\n",
              "      <th>marital_status</th>\n",
              "      <th>Level of Educuation</th>\n",
              "      <th>Type of Job</th>\n",
              "    </tr>\n",
              "  </thead>\n",
              "  <tbody>\n",
              "    <tr>\n",
              "      <th>0</th>\n",
              "      <td>Kenya</td>\n",
              "      <td>2018</td>\n",
              "      <td>uniqueid_1</td>\n",
              "      <td>Yes</td>\n",
              "      <td>Rural</td>\n",
              "      <td>Yes</td>\n",
              "      <td>3.0</td>\n",
              "      <td>24.0</td>\n",
              "      <td>Female</td>\n",
              "      <td>Spouse</td>\n",
              "      <td>Married/Living together</td>\n",
              "      <td>Secondary education</td>\n",
              "      <td>Self employed</td>\n",
              "    </tr>\n",
              "    <tr>\n",
              "      <th>1</th>\n",
              "      <td>Kenya</td>\n",
              "      <td>2018</td>\n",
              "      <td>uniqueid_2</td>\n",
              "      <td>No</td>\n",
              "      <td>Rural</td>\n",
              "      <td>No</td>\n",
              "      <td>5.0</td>\n",
              "      <td>70.0</td>\n",
              "      <td>Female</td>\n",
              "      <td>Head of Household</td>\n",
              "      <td>Widowed</td>\n",
              "      <td>No formal education</td>\n",
              "      <td>Government Dependent</td>\n",
              "    </tr>\n",
              "    <tr>\n",
              "      <th>2</th>\n",
              "      <td>Kenya</td>\n",
              "      <td>2018</td>\n",
              "      <td>uniqueid_3</td>\n",
              "      <td>Yes</td>\n",
              "      <td>Urban</td>\n",
              "      <td>Yes</td>\n",
              "      <td>5.0</td>\n",
              "      <td>26.0</td>\n",
              "      <td>Male</td>\n",
              "      <td>Other relative</td>\n",
              "      <td>Single/Never Married</td>\n",
              "      <td>Vocational/Specialised training</td>\n",
              "      <td>Self employed</td>\n",
              "    </tr>\n",
              "    <tr>\n",
              "      <th>3</th>\n",
              "      <td>Kenya</td>\n",
              "      <td>2018</td>\n",
              "      <td>uniqueid_4</td>\n",
              "      <td>No</td>\n",
              "      <td>Rural</td>\n",
              "      <td>Yes</td>\n",
              "      <td>5.0</td>\n",
              "      <td>34.0</td>\n",
              "      <td>Female</td>\n",
              "      <td>Head of Household</td>\n",
              "      <td>Married/Living together</td>\n",
              "      <td>Primary education</td>\n",
              "      <td>Formally employed Private</td>\n",
              "    </tr>\n",
              "    <tr>\n",
              "      <th>4</th>\n",
              "      <td>Kenya</td>\n",
              "      <td>2018</td>\n",
              "      <td>uniqueid_5</td>\n",
              "      <td>No</td>\n",
              "      <td>Urban</td>\n",
              "      <td>No</td>\n",
              "      <td>8.0</td>\n",
              "      <td>26.0</td>\n",
              "      <td>Male</td>\n",
              "      <td>Child</td>\n",
              "      <td>Single/Never Married</td>\n",
              "      <td>Primary education</td>\n",
              "      <td>Informally employed</td>\n",
              "    </tr>\n",
              "  </tbody>\n",
              "</table>\n",
              "</div>"
            ],
            "text/plain": [
              "  country  year  ...              Level of Educuation                Type of Job\n",
              "0   Kenya  2018  ...              Secondary education              Self employed\n",
              "1   Kenya  2018  ...              No formal education       Government Dependent\n",
              "2   Kenya  2018  ...  Vocational/Specialised training              Self employed\n",
              "3   Kenya  2018  ...                Primary education  Formally employed Private\n",
              "4   Kenya  2018  ...                Primary education        Informally employed\n",
              "\n",
              "[5 rows x 13 columns]"
            ]
          },
          "metadata": {
            "tags": []
          },
          "execution_count": 427
        }
      ]
    },
    {
      "cell_type": "code",
      "metadata": {
        "id": "aUy68Zyl6who",
        "colab_type": "code",
        "colab": {}
      },
      "source": [
        ""
      ],
      "execution_count": 427,
      "outputs": []
    },
    {
      "cell_type": "markdown",
      "metadata": {
        "id": "EyoJT0yYUwLU",
        "colab_type": "text"
      },
      "source": [
        "# Checking the Data"
      ]
    },
    {
      "cell_type": "code",
      "metadata": {
        "id": "zJ5jbJYdUxK9",
        "colab_type": "code",
        "colab": {
          "base_uri": "https://localhost:8080/",
          "height": 0
        },
        "outputId": "3bfea5e4-0694-4661-8121-9514a04fed94"
      },
      "source": [
        "# Determining the no. of records in our dataset\n",
        "# Determining the columns in our dataset\n",
        "print(finance.shape[0])\n",
        "finance.columns"
      ],
      "execution_count": 428,
      "outputs": [
        {
          "output_type": "stream",
          "text": [
            "23524\n"
          ],
          "name": "stdout"
        },
        {
          "output_type": "execute_result",
          "data": {
            "text/plain": [
              "Index(['country', 'year', 'uniqueid', 'Has a Bank account', 'Type of Location',\n",
              "       'Cell Phone Access', 'household_size', 'Respondent Age',\n",
              "       'gender_of_respondent', 'The relathip with head', 'marital_status',\n",
              "       'Level of Educuation', 'Type of Job'],\n",
              "      dtype='object')"
            ]
          },
          "metadata": {
            "tags": []
          },
          "execution_count": 428
        }
      ]
    },
    {
      "cell_type": "markdown",
      "metadata": {
        "id": "d5zE4FPt7FVP",
        "colab_type": "text"
      },
      "source": [
        "We have 23524 records \n",
        "\n",
        "The records has the folowing columns\n",
        "\n",
        " 'country', 'year', 'uniqueid', 'Has a Bank account', 'Type of Location',\n",
        "       'Cell Phone Access', 'household_size', 'Respondent Age',\n",
        "       'gender_of_respondent', 'The relathip with head', 'marital_status',\n",
        "       'Level of Educuation', 'Type of Job'],\n",
        "      dtype='object'"
      ]
    },
    {
      "cell_type": "code",
      "metadata": {
        "id": "CtN5XanX7kgw",
        "colab_type": "code",
        "colab": {
          "base_uri": "https://localhost:8080/",
          "height": 0
        },
        "outputId": "eaa13151-7e86-4ffa-aa36-46966fcd4dcf"
      },
      "source": [
        "# Previewing the top of our dataset\n",
        "#\n",
        "finance.head()"
      ],
      "execution_count": 429,
      "outputs": [
        {
          "output_type": "execute_result",
          "data": {
            "text/html": [
              "<div>\n",
              "<style scoped>\n",
              "    .dataframe tbody tr th:only-of-type {\n",
              "        vertical-align: middle;\n",
              "    }\n",
              "\n",
              "    .dataframe tbody tr th {\n",
              "        vertical-align: top;\n",
              "    }\n",
              "\n",
              "    .dataframe thead th {\n",
              "        text-align: right;\n",
              "    }\n",
              "</style>\n",
              "<table border=\"1\" class=\"dataframe\">\n",
              "  <thead>\n",
              "    <tr style=\"text-align: right;\">\n",
              "      <th></th>\n",
              "      <th>country</th>\n",
              "      <th>year</th>\n",
              "      <th>uniqueid</th>\n",
              "      <th>Has a Bank account</th>\n",
              "      <th>Type of Location</th>\n",
              "      <th>Cell Phone Access</th>\n",
              "      <th>household_size</th>\n",
              "      <th>Respondent Age</th>\n",
              "      <th>gender_of_respondent</th>\n",
              "      <th>The relathip with head</th>\n",
              "      <th>marital_status</th>\n",
              "      <th>Level of Educuation</th>\n",
              "      <th>Type of Job</th>\n",
              "    </tr>\n",
              "  </thead>\n",
              "  <tbody>\n",
              "    <tr>\n",
              "      <th>0</th>\n",
              "      <td>Kenya</td>\n",
              "      <td>2018</td>\n",
              "      <td>uniqueid_1</td>\n",
              "      <td>Yes</td>\n",
              "      <td>Rural</td>\n",
              "      <td>Yes</td>\n",
              "      <td>3.0</td>\n",
              "      <td>24.0</td>\n",
              "      <td>Female</td>\n",
              "      <td>Spouse</td>\n",
              "      <td>Married/Living together</td>\n",
              "      <td>Secondary education</td>\n",
              "      <td>Self employed</td>\n",
              "    </tr>\n",
              "    <tr>\n",
              "      <th>1</th>\n",
              "      <td>Kenya</td>\n",
              "      <td>2018</td>\n",
              "      <td>uniqueid_2</td>\n",
              "      <td>No</td>\n",
              "      <td>Rural</td>\n",
              "      <td>No</td>\n",
              "      <td>5.0</td>\n",
              "      <td>70.0</td>\n",
              "      <td>Female</td>\n",
              "      <td>Head of Household</td>\n",
              "      <td>Widowed</td>\n",
              "      <td>No formal education</td>\n",
              "      <td>Government Dependent</td>\n",
              "    </tr>\n",
              "    <tr>\n",
              "      <th>2</th>\n",
              "      <td>Kenya</td>\n",
              "      <td>2018</td>\n",
              "      <td>uniqueid_3</td>\n",
              "      <td>Yes</td>\n",
              "      <td>Urban</td>\n",
              "      <td>Yes</td>\n",
              "      <td>5.0</td>\n",
              "      <td>26.0</td>\n",
              "      <td>Male</td>\n",
              "      <td>Other relative</td>\n",
              "      <td>Single/Never Married</td>\n",
              "      <td>Vocational/Specialised training</td>\n",
              "      <td>Self employed</td>\n",
              "    </tr>\n",
              "    <tr>\n",
              "      <th>3</th>\n",
              "      <td>Kenya</td>\n",
              "      <td>2018</td>\n",
              "      <td>uniqueid_4</td>\n",
              "      <td>No</td>\n",
              "      <td>Rural</td>\n",
              "      <td>Yes</td>\n",
              "      <td>5.0</td>\n",
              "      <td>34.0</td>\n",
              "      <td>Female</td>\n",
              "      <td>Head of Household</td>\n",
              "      <td>Married/Living together</td>\n",
              "      <td>Primary education</td>\n",
              "      <td>Formally employed Private</td>\n",
              "    </tr>\n",
              "    <tr>\n",
              "      <th>4</th>\n",
              "      <td>Kenya</td>\n",
              "      <td>2018</td>\n",
              "      <td>uniqueid_5</td>\n",
              "      <td>No</td>\n",
              "      <td>Urban</td>\n",
              "      <td>No</td>\n",
              "      <td>8.0</td>\n",
              "      <td>26.0</td>\n",
              "      <td>Male</td>\n",
              "      <td>Child</td>\n",
              "      <td>Single/Never Married</td>\n",
              "      <td>Primary education</td>\n",
              "      <td>Informally employed</td>\n",
              "    </tr>\n",
              "  </tbody>\n",
              "</table>\n",
              "</div>"
            ],
            "text/plain": [
              "  country  year  ...              Level of Educuation                Type of Job\n",
              "0   Kenya  2018  ...              Secondary education              Self employed\n",
              "1   Kenya  2018  ...              No formal education       Government Dependent\n",
              "2   Kenya  2018  ...  Vocational/Specialised training              Self employed\n",
              "3   Kenya  2018  ...                Primary education  Formally employed Private\n",
              "4   Kenya  2018  ...                Primary education        Informally employed\n",
              "\n",
              "[5 rows x 13 columns]"
            ]
          },
          "metadata": {
            "tags": []
          },
          "execution_count": 429
        }
      ]
    },
    {
      "cell_type": "code",
      "metadata": {
        "id": "wdnu1HaL76At",
        "colab_type": "code",
        "colab": {
          "base_uri": "https://localhost:8080/",
          "height": 0
        },
        "outputId": "7a2b9a70-9eda-4615-bd25-c5dd533a15b2"
      },
      "source": [
        "# Previewing the bottom of our dataset\n",
        "#\n",
        "finance.tail()"
      ],
      "execution_count": 430,
      "outputs": [
        {
          "output_type": "execute_result",
          "data": {
            "text/html": [
              "<div>\n",
              "<style scoped>\n",
              "    .dataframe tbody tr th:only-of-type {\n",
              "        vertical-align: middle;\n",
              "    }\n",
              "\n",
              "    .dataframe tbody tr th {\n",
              "        vertical-align: top;\n",
              "    }\n",
              "\n",
              "    .dataframe thead th {\n",
              "        text-align: right;\n",
              "    }\n",
              "</style>\n",
              "<table border=\"1\" class=\"dataframe\">\n",
              "  <thead>\n",
              "    <tr style=\"text-align: right;\">\n",
              "      <th></th>\n",
              "      <th>country</th>\n",
              "      <th>year</th>\n",
              "      <th>uniqueid</th>\n",
              "      <th>Has a Bank account</th>\n",
              "      <th>Type of Location</th>\n",
              "      <th>Cell Phone Access</th>\n",
              "      <th>household_size</th>\n",
              "      <th>Respondent Age</th>\n",
              "      <th>gender_of_respondent</th>\n",
              "      <th>The relathip with head</th>\n",
              "      <th>marital_status</th>\n",
              "      <th>Level of Educuation</th>\n",
              "      <th>Type of Job</th>\n",
              "    </tr>\n",
              "  </thead>\n",
              "  <tbody>\n",
              "    <tr>\n",
              "      <th>23519</th>\n",
              "      <td>Uganda</td>\n",
              "      <td>2018</td>\n",
              "      <td>uniqueid_2113</td>\n",
              "      <td>No</td>\n",
              "      <td>Rural</td>\n",
              "      <td>Yes</td>\n",
              "      <td>4.0</td>\n",
              "      <td>48.0</td>\n",
              "      <td>Female</td>\n",
              "      <td>Head of Household</td>\n",
              "      <td>Divorced/Seperated</td>\n",
              "      <td>No formal education</td>\n",
              "      <td>Other Income</td>\n",
              "    </tr>\n",
              "    <tr>\n",
              "      <th>23520</th>\n",
              "      <td>Uganda</td>\n",
              "      <td>2018</td>\n",
              "      <td>uniqueid_2114</td>\n",
              "      <td>No</td>\n",
              "      <td>Rural</td>\n",
              "      <td>Yes</td>\n",
              "      <td>2.0</td>\n",
              "      <td>27.0</td>\n",
              "      <td>Female</td>\n",
              "      <td>Head of Household</td>\n",
              "      <td>Single/Never Married</td>\n",
              "      <td>Secondary education</td>\n",
              "      <td>Other Income</td>\n",
              "    </tr>\n",
              "    <tr>\n",
              "      <th>23521</th>\n",
              "      <td>Uganda</td>\n",
              "      <td>2018</td>\n",
              "      <td>uniqueid_2115</td>\n",
              "      <td>No</td>\n",
              "      <td>Rural</td>\n",
              "      <td>Yes</td>\n",
              "      <td>5.0</td>\n",
              "      <td>27.0</td>\n",
              "      <td>Female</td>\n",
              "      <td>Parent</td>\n",
              "      <td>Widowed</td>\n",
              "      <td>Primary education</td>\n",
              "      <td>Other Income</td>\n",
              "    </tr>\n",
              "    <tr>\n",
              "      <th>23522</th>\n",
              "      <td>Uganda</td>\n",
              "      <td>2018</td>\n",
              "      <td>uniqueid_2116</td>\n",
              "      <td>No</td>\n",
              "      <td>Urban</td>\n",
              "      <td>Yes</td>\n",
              "      <td>7.0</td>\n",
              "      <td>30.0</td>\n",
              "      <td>Female</td>\n",
              "      <td>Parent</td>\n",
              "      <td>Divorced/Seperated</td>\n",
              "      <td>Secondary education</td>\n",
              "      <td>Self employed</td>\n",
              "    </tr>\n",
              "    <tr>\n",
              "      <th>23523</th>\n",
              "      <td>Uganda</td>\n",
              "      <td>2018</td>\n",
              "      <td>uniqueid_2117</td>\n",
              "      <td>No</td>\n",
              "      <td>Rural</td>\n",
              "      <td>Yes</td>\n",
              "      <td>10.0</td>\n",
              "      <td>20.0</td>\n",
              "      <td>Male</td>\n",
              "      <td>Child</td>\n",
              "      <td>Single/Never Married</td>\n",
              "      <td>Secondary education</td>\n",
              "      <td>No Income</td>\n",
              "    </tr>\n",
              "  </tbody>\n",
              "</table>\n",
              "</div>"
            ],
            "text/plain": [
              "      country  year  ...  Level of Educuation    Type of Job\n",
              "23519  Uganda  2018  ...  No formal education   Other Income\n",
              "23520  Uganda  2018  ...  Secondary education   Other Income\n",
              "23521  Uganda  2018  ...    Primary education   Other Income\n",
              "23522  Uganda  2018  ...  Secondary education  Self employed\n",
              "23523  Uganda  2018  ...  Secondary education      No Income\n",
              "\n",
              "[5 rows x 13 columns]"
            ]
          },
          "metadata": {
            "tags": []
          },
          "execution_count": 430
        }
      ]
    },
    {
      "cell_type": "code",
      "metadata": {
        "id": "3FGaWjra8L9J",
        "colab_type": "code",
        "colab": {
          "base_uri": "https://localhost:8080/",
          "height": 0
        },
        "outputId": "04125dfc-1114-46f4-c7b5-9b7f12a2c22a"
      },
      "source": [
        "# Checking whether each column has an appropriate datatype\n",
        "#\n",
        "finance.info()"
      ],
      "execution_count": 431,
      "outputs": [
        {
          "output_type": "stream",
          "text": [
            "<class 'pandas.core.frame.DataFrame'>\n",
            "RangeIndex: 23524 entries, 0 to 23523\n",
            "Data columns (total 13 columns):\n",
            " #   Column                  Non-Null Count  Dtype  \n",
            "---  ------                  --------------  -----  \n",
            " 0   country                 23510 non-null  object \n",
            " 1   year                    23524 non-null  int64  \n",
            " 2   uniqueid                23524 non-null  object \n",
            " 3   Has a Bank account      23488 non-null  object \n",
            " 4   Type of Location        23509 non-null  object \n",
            " 5   Cell Phone Access       23513 non-null  object \n",
            " 6   household_size          23496 non-null  float64\n",
            " 7   Respondent Age          23490 non-null  float64\n",
            " 8   gender_of_respondent    23490 non-null  object \n",
            " 9   The relathip with head  23520 non-null  object \n",
            " 10  marital_status          23492 non-null  object \n",
            " 11  Level of Educuation     23495 non-null  object \n",
            " 12  Type of Job             23494 non-null  object \n",
            "dtypes: float64(2), int64(1), object(10)\n",
            "memory usage: 2.3+ MB\n"
          ],
          "name": "stdout"
        }
      ]
    },
    {
      "cell_type": "code",
      "metadata": {
        "id": "c98SFx46GhnR",
        "colab_type": "code",
        "colab": {
          "base_uri": "https://localhost:8080/",
          "height": 0
        },
        "outputId": "63e200dd-eb1b-4894-cee6-e75beb3a048c"
      },
      "source": [
        "finance.describe()"
      ],
      "execution_count": 432,
      "outputs": [
        {
          "output_type": "execute_result",
          "data": {
            "text/html": [
              "<div>\n",
              "<style scoped>\n",
              "    .dataframe tbody tr th:only-of-type {\n",
              "        vertical-align: middle;\n",
              "    }\n",
              "\n",
              "    .dataframe tbody tr th {\n",
              "        vertical-align: top;\n",
              "    }\n",
              "\n",
              "    .dataframe thead th {\n",
              "        text-align: right;\n",
              "    }\n",
              "</style>\n",
              "<table border=\"1\" class=\"dataframe\">\n",
              "  <thead>\n",
              "    <tr style=\"text-align: right;\">\n",
              "      <th></th>\n",
              "      <th>year</th>\n",
              "      <th>household_size</th>\n",
              "      <th>Respondent Age</th>\n",
              "    </tr>\n",
              "  </thead>\n",
              "  <tbody>\n",
              "    <tr>\n",
              "      <th>count</th>\n",
              "      <td>23524.000000</td>\n",
              "      <td>23496.000000</td>\n",
              "      <td>23490.000000</td>\n",
              "    </tr>\n",
              "    <tr>\n",
              "      <th>mean</th>\n",
              "      <td>2016.979000</td>\n",
              "      <td>3.681818</td>\n",
              "      <td>38.804300</td>\n",
              "    </tr>\n",
              "    <tr>\n",
              "      <th>std</th>\n",
              "      <td>0.899669</td>\n",
              "      <td>2.279933</td>\n",
              "      <td>16.519996</td>\n",
              "    </tr>\n",
              "    <tr>\n",
              "      <th>min</th>\n",
              "      <td>2016.000000</td>\n",
              "      <td>0.000000</td>\n",
              "      <td>16.000000</td>\n",
              "    </tr>\n",
              "    <tr>\n",
              "      <th>25%</th>\n",
              "      <td>2016.000000</td>\n",
              "      <td>2.000000</td>\n",
              "      <td>26.000000</td>\n",
              "    </tr>\n",
              "    <tr>\n",
              "      <th>50%</th>\n",
              "      <td>2017.000000</td>\n",
              "      <td>3.000000</td>\n",
              "      <td>35.000000</td>\n",
              "    </tr>\n",
              "    <tr>\n",
              "      <th>75%</th>\n",
              "      <td>2018.000000</td>\n",
              "      <td>5.000000</td>\n",
              "      <td>49.000000</td>\n",
              "    </tr>\n",
              "    <tr>\n",
              "      <th>max</th>\n",
              "      <td>2056.000000</td>\n",
              "      <td>21.000000</td>\n",
              "      <td>100.000000</td>\n",
              "    </tr>\n",
              "  </tbody>\n",
              "</table>\n",
              "</div>"
            ],
            "text/plain": [
              "               year  household_size  Respondent Age\n",
              "count  23524.000000    23496.000000    23490.000000\n",
              "mean    2016.979000        3.681818       38.804300\n",
              "std        0.899669        2.279933       16.519996\n",
              "min     2016.000000        0.000000       16.000000\n",
              "25%     2016.000000        2.000000       26.000000\n",
              "50%     2017.000000        3.000000       35.000000\n",
              "75%     2018.000000        5.000000       49.000000\n",
              "max     2056.000000       21.000000      100.000000"
            ]
          },
          "metadata": {
            "tags": []
          },
          "execution_count": 432
        }
      ]
    },
    {
      "cell_type": "markdown",
      "metadata": {
        "id": "wbNFlll-0MCy",
        "colab_type": "text"
      },
      "source": [
        "The mean of the respondent age is 38 and that of the household size is 3 and their standard deviation from the mean is 16.52 and 2.28 respectively"
      ]
    },
    {
      "cell_type": "markdown",
      "metadata": {
        "id": "mjvsp1VR6Dnp",
        "colab_type": "text"
      },
      "source": [
        "# Central measures of dispersion "
      ]
    },
    {
      "cell_type": "code",
      "metadata": {
        "id": "HX3ZvxiuEeBI",
        "colab_type": "code",
        "colab": {
          "base_uri": "https://localhost:8080/",
          "height": 0
        },
        "outputId": "1727cad3-0875-47ac-c789-94289054d7d5"
      },
      "source": [
        "#  Mean\n",
        "# Mean or Average is a central tendency of the data i.e. a number around which a whole data is spread out. \n",
        "# In a way, it is a single number which can estimate the value of whole data set.\n",
        "\n",
        "# Finding the mean\n",
        "print(finance[\"Respondent Age\"].mean())\n",
        "print(finance[\"household_size\"]. mean())"
      ],
      "execution_count": 433,
      "outputs": [
        {
          "output_type": "stream",
          "text": [
            "38.804299702000854\n",
            "3.6818181818181817\n"
          ],
          "name": "stdout"
        }
      ]
    },
    {
      "cell_type": "code",
      "metadata": {
        "id": "TsjB9nELHCu7",
        "colab_type": "code",
        "colab": {
          "base_uri": "https://localhost:8080/",
          "height": 0
        },
        "outputId": "da345821-c73b-43de-8aaa-f453c66ca2e5"
      },
      "source": [
        "# Example 2: Median\n",
        "# Median is the value which divides the data in 2 equal parts i.e. number of terms on right side of it \n",
        "\n",
        "# Finding the median\n",
        "print(finance[\"Respondent Age\"].median())\n",
        "print(finance[\"household_size\"]. median())"
      ],
      "execution_count": 434,
      "outputs": [
        {
          "output_type": "stream",
          "text": [
            "35.0\n",
            "3.0\n"
          ],
          "name": "stdout"
        }
      ]
    },
    {
      "cell_type": "code",
      "metadata": {
        "id": "aUtU1_zgHCsB",
        "colab_type": "code",
        "colab": {
          "base_uri": "https://localhost:8080/",
          "height": 0
        },
        "outputId": "fb20bc17-e622-403b-fd8a-58937f26a928"
      },
      "source": [
        "# Example 3: Mode \n",
        "# Mode is the term appearing maximum time in data set i.e. term that has highest frequency.\n",
        "\n",
        "# Finding the median\n",
        "print(finance[\"Respondent Age\"].mode())\n",
        "print(finance[\"household_size\"]. mode())"
      ],
      "execution_count": 435,
      "outputs": [
        {
          "output_type": "stream",
          "text": [
            "0    30.0\n",
            "dtype: float64\n",
            "0    2.0\n",
            "dtype: float64\n"
          ],
          "name": "stdout"
        }
      ]
    },
    {
      "cell_type": "markdown",
      "metadata": {
        "id": "Y4VVFAWs4QKM",
        "colab_type": "text"
      },
      "source": [
        "# External Data Source Validation"
      ]
    },
    {
      "cell_type": "markdown",
      "metadata": {
        "id": "zxWJ1cKW8lhF",
        "colab_type": "text"
      },
      "source": [
        "\n",
        "\n",
        "*  Making sure your data matches something outside of the dataset is very important. It allows you to ensure that the measurements are roughly in line with what they should be and it serves as a check on what other things might be wrong in your dataset. \n",
        "\n",
        "*  The research from https://www.statista.com/ shows that the means, mode and medians for ages have almost the same mean, median and mode \n",
        "\n"
      ]
    },
    {
      "cell_type": "markdown",
      "metadata": {
        "id": "0JKUTKQE4suA",
        "colab_type": "text"
      },
      "source": [
        "# Tidying the dataset"
      ]
    },
    {
      "cell_type": "code",
      "metadata": {
        "id": "GJwRPz5oDs-4",
        "colab_type": "code",
        "colab": {
          "base_uri": "https://localhost:8080/",
          "height": 0
        },
        "outputId": "bcc4ece3-e240-4828-e4e4-54b0f794604d"
      },
      "source": [
        "# Identifying the Missing Data\n",
        "#\n",
        "finance.isnull().values.sum()\n"
      ],
      "execution_count": 436,
      "outputs": [
        {
          "output_type": "execute_result",
          "data": {
            "text/plain": [
              "267"
            ]
          },
          "metadata": {
            "tags": []
          },
          "execution_count": 436
        }
      ]
    },
    {
      "cell_type": "markdown",
      "metadata": {
        "id": "bEp91-ikJPea",
        "colab_type": "text"
      },
      "source": [
        "Considering the null values are 267 and the records are 2300+ not much of the data will be lost when we drop the null values \n"
      ]
    },
    {
      "cell_type": "code",
      "metadata": {
        "id": "kuh_cPf5JQB_",
        "colab_type": "code",
        "colab": {
          "base_uri": "https://localhost:8080/",
          "height": 0
        },
        "outputId": "5543627d-09e7-4eee-a05c-18e0c9d6c94f"
      },
      "source": [
        "finance.isnull().sum()"
      ],
      "execution_count": 437,
      "outputs": [
        {
          "output_type": "execute_result",
          "data": {
            "text/plain": [
              "country                   14\n",
              "year                       0\n",
              "uniqueid                   0\n",
              "Has a Bank account        36\n",
              "Type of Location          15\n",
              "Cell Phone Access         11\n",
              "household_size            28\n",
              "Respondent Age            34\n",
              "gender_of_respondent      34\n",
              "The relathip with head     4\n",
              "marital_status            32\n",
              "Level of Educuation       29\n",
              "Type of Job               30\n",
              "dtype: int64"
            ]
          },
          "metadata": {
            "tags": []
          },
          "execution_count": 437
        }
      ]
    },
    {
      "cell_type": "code",
      "metadata": {
        "id": "Yx6xiZMWJ9u3",
        "colab_type": "code",
        "colab": {}
      },
      "source": [
        "#Dealing with missing values \n",
        "#Carry forward the values\n",
        "#Drop irrelevant data  \n",
        "finance.fillna( method ='ffill', inplace = True)\n",
        "y = finance[['The relathip with head', 'uniqueid']]\n",
        "finance = finance.drop(y, axis= 1)\n"
      ],
      "execution_count": 438,
      "outputs": []
    },
    {
      "cell_type": "markdown",
      "metadata": {
        "id": "OKlzONyI2_Jr",
        "colab_type": "text"
      },
      "source": [
        "Decided to carry forward the values to any missing values as dropping the null values looked tiresome and was not that effective. \n",
        "\n",
        "Also dropped columns with irrelevant data so as to reduce columns "
      ]
    },
    {
      "cell_type": "code",
      "metadata": {
        "id": "JH99VlINbNgB",
        "colab_type": "code",
        "colab": {
          "base_uri": "https://localhost:8080/",
          "height": 0
        },
        "outputId": "0b33aaeb-07d3-4a99-d841-bf8978848245"
      },
      "source": [
        "# Checking for Outliers\n",
        "#\n",
        "sns.boxplot(finance['Respondent Age'])\n",
        "\n"
      ],
      "execution_count": 439,
      "outputs": [
        {
          "output_type": "execute_result",
          "data": {
            "text/plain": [
              "<matplotlib.axes._subplots.AxesSubplot at 0x7f57f2bea048>"
            ]
          },
          "metadata": {
            "tags": []
          },
          "execution_count": 439
        },
        {
          "output_type": "display_data",
          "data": {
            "image/png": "[encoded data removed]",
            "text/plain": [
              "<Figure size 432x288 with 1 Axes>"
            ]
          },
          "metadata": {
            "tags": [],
            "needs_background": "light"
          }
        }
      ]
    },
    {
      "cell_type": "markdown",
      "metadata": {
        "id": "4KeQn8t7M67w",
        "colab_type": "text"
      },
      "source": [
        "Drop the predicted years to have a more accurate data "
      ]
    },
    {
      "cell_type": "code",
      "metadata": {
        "id": "g8G0tZSALFJn",
        "colab_type": "code",
        "colab": {
          "base_uri": "https://localhost:8080/",
          "height": 0
        },
        "outputId": "7516a392-95c4-4c56-f030-7fd6624e7b94"
      },
      "source": [
        "print(finance.year.unique())\n",
        "finance.drop(finance[finance.year > 2018].index, inplace=True)"
      ],
      "execution_count": 440,
      "outputs": [
        {
          "output_type": "stream",
          "text": [
            "[2018 2029 2056 2016 2039 2017]\n"
          ],
          "name": "stdout"
        }
      ]
    },
    {
      "cell_type": "code",
      "metadata": {
        "id": "X15s-odDeuak",
        "colab_type": "code",
        "colab": {
          "base_uri": "https://localhost:8080/",
          "height": 0
        },
        "outputId": "f43dced5-6c09-4702-87cf-7f69c539d76c"
      },
      "source": [
        "#Detecting outliers in ages \n",
        "outliers=[]\n",
        "\n",
        "def detect_outlier(finance):\n",
        "    \n",
        "    threshold=3\n",
        "    mean_1 = np.mean(finance)\n",
        "    std_1 =np.std(finance)\n",
        "    \n",
        "    for y in finance:\n",
        "        z_score= (y - mean_1)/std_1 \n",
        "        if np.abs(z_score) > threshold:\n",
        "            outliers.append(y)\n",
        "    return outliers\n",
        "\n",
        "detect_outlier(finance['Respondent Age'])"
      ],
      "execution_count": 441,
      "outputs": [
        {
          "output_type": "execute_result",
          "data": {
            "text/plain": [
              "[95.0,\n",
              " 95.0,\n",
              " 95.0,\n",
              " 93.0,\n",
              " 90.0,\n",
              " 89.0,\n",
              " 95.0,\n",
              " 94.0,\n",
              " 95.0,\n",
              " 93.0,\n",
              " 90.0,\n",
              " 92.0,\n",
              " 92.0,\n",
              " 90.0,\n",
              " 90.0,\n",
              " 90.0,\n",
              " 91.0,\n",
              " 93.0,\n",
              " 95.0,\n",
              " 90.0,\n",
              " 89.0,\n",
              " 89.0,\n",
              " 95.0,\n",
              " 90.0,\n",
              " 89.0,\n",
              " 89.0,\n",
              " 89.0,\n",
              " 90.0,\n",
              " 95.0,\n",
              " 93.0,\n",
              " 92.0,\n",
              " 95.0,\n",
              " 94.0,\n",
              " 92.0,\n",
              " 95.0,\n",
              " 90.0,\n",
              " 95.0,\n",
              " 95.0,\n",
              " 89.0,\n",
              " 95.0,\n",
              " 98.0,\n",
              " 95.0,\n",
              " 97.0,\n",
              " 92.0,\n",
              " 89.0,\n",
              " 92.0,\n",
              " 89.0,\n",
              " 96.0,\n",
              " 89.0,\n",
              " 99.0,\n",
              " 89.0,\n",
              " 94.0,\n",
              " 91.0,\n",
              " 91.0,\n",
              " 90.0,\n",
              " 89.0,\n",
              " 89.0,\n",
              " 90.0,\n",
              " 95.0,\n",
              " 89.0,\n",
              " 90.0,\n",
              " 96.0,\n",
              " 100.0,\n",
              " 90.0,\n",
              " 90.0,\n",
              " 89.0,\n",
              " 98.0,\n",
              " 91.0,\n",
              " 92.0,\n",
              " 95.0,\n",
              " 89.0,\n",
              " 94.0,\n",
              " 99.0,\n",
              " 90.0,\n",
              " 90.0,\n",
              " 90.0,\n",
              " 90.0,\n",
              " 90.0,\n",
              " 100.0,\n",
              " 95.0,\n",
              " 91.0,\n",
              " 90.0,\n",
              " 95.0,\n",
              " 94.0,\n",
              " 90.0,\n",
              " 98.0,\n",
              " 98.0,\n",
              " 100.0,\n",
              " 100.0,\n",
              " 90.0,\n",
              " 90.0,\n",
              " 100.0,\n",
              " 90.0,\n",
              " 90.0,\n",
              " 96.0,\n",
              " 90.0,\n",
              " 90.0,\n",
              " 98.0,\n",
              " 95.0,\n",
              " 98.0,\n",
              " 90.0]"
            ]
          },
          "metadata": {
            "tags": []
          },
          "execution_count": 441
        }
      ]
    },
    {
      "cell_type": "markdown",
      "metadata": {
        "id": "CD1M33l0eMoL",
        "colab_type": "text"
      },
      "source": [
        "The age columns have outliers of ages which are between the ages of 80-100. The age_bracket in Africa is less digitalized and most of them do not own phones or understand the meaning of having a banking account hence we can remove them from the records "
      ]
    },
    {
      "cell_type": "code",
      "metadata": {
        "id": "VblODjsnd-Ro",
        "colab_type": "code",
        "colab": {
          "base_uri": "https://localhost:8080/",
          "height": 0
        },
        "outputId": "09d59e60-3a92-4f53-e8e6-ccf1fd50a209"
      },
      "source": [
        "sns.boxplot(finance['household_size'])"
      ],
      "execution_count": 442,
      "outputs": [
        {
          "output_type": "execute_result",
          "data": {
            "text/plain": [
              "<matplotlib.axes._subplots.AxesSubplot at 0x7f57f2ab1278>"
            ]
          },
          "metadata": {
            "tags": []
          },
          "execution_count": 442
        },
        {
          "output_type": "display_data",
          "data": {
            "image/png": "[encoded data removed]",
            "text/plain": [
              "<Figure size 432x288 with 1 Axes>"
            ]
          },
          "metadata": {
            "tags": [],
            "needs_background": "light"
          }
        }
      ]
    },
    {
      "cell_type": "code",
      "metadata": {
        "id": "qEPKKGV2hJqm",
        "colab_type": "code",
        "colab": {
          "base_uri": "https://localhost:8080/",
          "height": 0
        },
        "outputId": "d0dbd1c7-20fd-465c-d276-4128d750c755"
      },
      "source": [
        "#Detecting outliers \n",
        "outliers=[]\n",
        "\n",
        "def detect_outlier(finance):\n",
        "    \n",
        "    threshold=3\n",
        "    mean_1 = np.mean(finance)\n",
        "    std_1 =np.std(finance)\n",
        "    \n",
        "    for y in finance:\n",
        "        z_score= (y - mean_1)/std_1 \n",
        "        if np.abs(z_score) > threshold:\n",
        "            outliers.append(y)\n",
        "    return outliers\n",
        "\n",
        "detect_outlier(finance['household_size'])"
      ],
      "execution_count": 443,
      "outputs": [
        {
          "output_type": "execute_result",
          "data": {
            "text/plain": [
              "[11.0,\n",
              " 12.0,\n",
              " 16.0,\n",
              " 11.0,\n",
              " 12.0,\n",
              " 11.0,\n",
              " 11.0,\n",
              " 16.0,\n",
              " 11.0,\n",
              " 11.0,\n",
              " 15.0,\n",
              " 13.0,\n",
              " 11.0,\n",
              " 11.0,\n",
              " 11.0,\n",
              " 13.0,\n",
              " 12.0,\n",
              " 12.0,\n",
              " 12.0,\n",
              " 12.0,\n",
              " 11.0,\n",
              " 11.0,\n",
              " 11.0,\n",
              " 13.0,\n",
              " 13.0,\n",
              " 12.0,\n",
              " 12.0,\n",
              " 12.0,\n",
              " 11.0,\n",
              " 12.0,\n",
              " 13.0,\n",
              " 11.0,\n",
              " 11.0,\n",
              " 12.0,\n",
              " 11.0,\n",
              " 12.0,\n",
              " 13.0,\n",
              " 11.0,\n",
              " 11.0,\n",
              " 11.0,\n",
              " 11.0,\n",
              " 14.0,\n",
              " 21.0,\n",
              " 11.0,\n",
              " 14.0,\n",
              " 12.0,\n",
              " 15.0,\n",
              " 11.0,\n",
              " 15.0,\n",
              " 15.0,\n",
              " 13.0,\n",
              " 11.0,\n",
              " 11.0,\n",
              " 13.0,\n",
              " 12.0,\n",
              " 13.0,\n",
              " 11.0,\n",
              " 11.0,\n",
              " 11.0,\n",
              " 13.0,\n",
              " 11.0,\n",
              " 11.0,\n",
              " 11.0,\n",
              " 11.0,\n",
              " 11.0,\n",
              " 11.0,\n",
              " 12.0,\n",
              " 11.0,\n",
              " 11.0,\n",
              " 11.0,\n",
              " 12.0,\n",
              " 11.0,\n",
              " 12.0,\n",
              " 12.0,\n",
              " 12.0,\n",
              " 13.0,\n",
              " 11.0,\n",
              " 11.0,\n",
              " 12.0,\n",
              " 11.0,\n",
              " 12.0,\n",
              " 11.0,\n",
              " 11.0,\n",
              " 12.0,\n",
              " 11.0,\n",
              " 11.0,\n",
              " 11.0,\n",
              " 12.0,\n",
              " 13.0,\n",
              " 14.0,\n",
              " 12.0,\n",
              " 12.0,\n",
              " 13.0,\n",
              " 13.0,\n",
              " 12.0,\n",
              " 12.0,\n",
              " 13.0,\n",
              " 12.0,\n",
              " 11.0,\n",
              " 15.0,\n",
              " 12.0,\n",
              " 11.0,\n",
              " 11.0,\n",
              " 12.0,\n",
              " 11.0,\n",
              " 13.0,\n",
              " 11.0,\n",
              " 11.0,\n",
              " 12.0,\n",
              " 12.0,\n",
              " 18.0,\n",
              " 12.0,\n",
              " 12.0,\n",
              " 12.0,\n",
              " 14.0,\n",
              " 12.0,\n",
              " 17.0,\n",
              " 11.0,\n",
              " 12.0,\n",
              " 12.0,\n",
              " 13.0,\n",
              " 13.0,\n",
              " 12.0,\n",
              " 12.0,\n",
              " 13.0,\n",
              " 12.0,\n",
              " 11.0,\n",
              " 12.0,\n",
              " 11.0,\n",
              " 11.0,\n",
              " 20.0,\n",
              " 12.0,\n",
              " 14.0,\n",
              " 15.0,\n",
              " 12.0,\n",
              " 12.0,\n",
              " 15.0,\n",
              " 11.0,\n",
              " 11.0,\n",
              " 12.0,\n",
              " 12.0,\n",
              " 12.0,\n",
              " 12.0,\n",
              " 13.0,\n",
              " 11.0,\n",
              " 11.0,\n",
              " 16.0,\n",
              " 16.0,\n",
              " 14.0,\n",
              " 12.0,\n",
              " 11.0,\n",
              " 12.0,\n",
              " 11.0,\n",
              " 14.0,\n",
              " 12.0,\n",
              " 15.0,\n",
              " 12.0,\n",
              " 12.0,\n",
              " 14.0,\n",
              " 12.0,\n",
              " 12.0,\n",
              " 14.0,\n",
              " 12.0,\n",
              " 15.0,\n",
              " 12.0,\n",
              " 11.0,\n",
              " 13.0,\n",
              " 11.0,\n",
              " 11.0,\n",
              " 12.0,\n",
              " 12.0,\n",
              " 12.0,\n",
              " 12.0,\n",
              " 12.0,\n",
              " 11.0,\n",
              " 12.0,\n",
              " 12.0,\n",
              " 13.0,\n",
              " 15.0,\n",
              " 11.0,\n",
              " 13.0,\n",
              " 13.0,\n",
              " 13.0,\n",
              " 12.0,\n",
              " 15.0]"
            ]
          },
          "metadata": {
            "tags": []
          },
          "execution_count": 443
        }
      ]
    },
    {
      "cell_type": "markdown",
      "metadata": {
        "id": "ZzN4qF0ehaDt",
        "colab_type": "text"
      },
      "source": [
        "The average household_size in the dataset is 3 so we can remove all the outliers and replace them with mean "
      ]
    },
    {
      "cell_type": "code",
      "metadata": {
        "id": "PUTrPQNskykY",
        "colab_type": "code",
        "colab": {
          "base_uri": "https://localhost:8080/",
          "height": 0
        },
        "outputId": "6f761fea-2fd6-4c26-f8a8-7267f0d4773d"
      },
      "source": [
        "# Removing outliers based on the IQR range and stores the result in the data frame 'finances_'\n",
        "# ---\n",
        "# \n",
        "Q1= finance.quantile(0.25)\n",
        "Q3 = finance.quantile(0.75)\n",
        "IQR = Q3-Q1\n",
        "IQR\n",
        "#boston_df_out = boston_df_o1[~((boston_df_o1 < (Q1 - 1.5 * IQR)) |(boston_df_o1 > (Q3 + 1.5 * IQR))).any(axis=1)]\n",
        "finance_out = finance[~((finance < (Q1 - 1.5 * IQR)) |(finance > (Q3 + 1.5 * IQR))).any(axis=1)]\n",
        "finance_out.shape\n",
        "# Printing the shape of our new dataset versus the old one \n",
        "# ---\n",
        "# \n",
        "print(finance_out.shape)\n",
        "print(finance.shape)"
      ],
      "execution_count": 444,
      "outputs": [
        {
          "output_type": "stream",
          "text": [
            "(22903, 11)\n",
            "(23521, 11)\n"
          ],
          "name": "stdout"
        }
      ]
    },
    {
      "cell_type": "code",
      "metadata": {
        "id": "7qRw-iUoti8E",
        "colab_type": "code",
        "colab": {
          "base_uri": "https://localhost:8080/",
          "height": 0
        },
        "outputId": "26739b92-5e56-4a5d-c155-be9c1f7f5c29"
      },
      "source": [
        "finance_out.kurt()"
      ],
      "execution_count": 445,
      "outputs": [
        {
          "output_type": "execute_result",
          "data": {
            "text/plain": [
              "year             -1.595157\n",
              "household_size   -0.497274\n",
              "Respondent Age   -0.235982\n",
              "dtype: float64"
            ]
          },
          "metadata": {
            "tags": []
          },
          "execution_count": 445
        }
      ]
    },
    {
      "cell_type": "markdown",
      "metadata": {
        "id": "2u-JUhZJt71d",
        "colab_type": "text"
      },
      "source": [
        "Kurtosis tells you the height and sharpness of the central peak, relative to that of a standard bell curve\n",
        "\n",
        "Negative values of kurtosis indicate that a distribution is flat and has thin tails. The flat tails indicate the small outliers in a distribution.\n",
        "\n",
        "Hence it is called a  platykurtic distribution showing negative excess kurtosis."
      ]
    },
    {
      "cell_type": "code",
      "metadata": {
        "id": "m-GK13HCiWLN",
        "colab_type": "code",
        "colab": {
          "base_uri": "https://localhost:8080/",
          "height": 0
        },
        "outputId": "8b2ad0bb-c391-44e5-aea0-10ef7b5d69e6"
      },
      "source": [
        "# ---Checking for Anomalies\n",
        "# Calculating our first, third quantiles and then later our IQR\n",
        "\n",
        "#\n",
        "Q1= finance_out.quantile(0.25)\n",
        "Q3 = finance_out.quantile(0.75)\n",
        "IQR = Q3-Q1\n",
        "IQR\n"
      ],
      "execution_count": 446,
      "outputs": [
        {
          "output_type": "execute_result",
          "data": {
            "text/plain": [
              "year               2.0\n",
              "household_size     3.0\n",
              "Respondent Age    22.0\n",
              "dtype: float64"
            ]
          },
          "metadata": {
            "tags": []
          },
          "execution_count": 446
        }
      ]
    },
    {
      "cell_type": "code",
      "metadata": {
        "id": "PYxvU66UnkZE",
        "colab_type": "code",
        "colab": {
          "base_uri": "https://localhost:8080/",
          "height": 0
        },
        "outputId": "fbb7824c-27fe-473a-f980-568ce523b3f8"
      },
      "source": [
        "# Checking for Anomalies\n",
        "#\n",
        "finance_out.skew()"
      ],
      "execution_count": 447,
      "outputs": [
        {
          "output_type": "execute_result",
          "data": {
            "text/plain": [
              "year              0.063181\n",
              "household_size    0.612041\n",
              "Respondent Age    0.741187\n",
              "dtype: float64"
            ]
          },
          "metadata": {
            "tags": []
          },
          "execution_count": 447
        }
      ]
    },
    {
      "cell_type": "markdown",
      "metadata": {
        "id": "f5iRsEi8kyIF",
        "colab_type": "text"
      },
      "source": [
        "Our data is between 0.5 and 1, hence the distribution of both variables  is moderately skewed. Which is okay as this means the variables in the right tail is a bit more than the left tail but not alarming"
      ]
    },
    {
      "cell_type": "code",
      "metadata": {
        "id": "7SSTPPiHQBeZ",
        "colab_type": "code",
        "colab": {
          "base_uri": "https://localhost:8080/",
          "height": 0
        },
        "outputId": "835e2269-35c1-460f-c325-0de433805134"
      },
      "source": [
        "# Standard Deviation  \n",
        "# Standard deviation is the measurement of average distance between each values and mean. \n",
        "# That is, how data is spread out from mean. A low standard deviation indicates that the data points \n",
        "# tend to be close to the mean of the data set, while a high standard deviation indicates that the \n",
        "# data points are spread out over a wider range of values.\n",
        "\n",
        "\n",
        "# Finding the standard deviation\n",
        "print(finance_out[\"Respondent Age\"].std())\n",
        "print(finance_out[\"household_size\"].std())\n",
        "\n"
      ],
      "execution_count": 448,
      "outputs": [
        {
          "output_type": "stream",
          "text": [
            "15.801188411812745\n",
            "2.079245920039249\n"
          ],
          "name": "stdout"
        }
      ]
    },
    {
      "cell_type": "code",
      "metadata": {
        "id": "qYcsD4i3QyRr",
        "colab_type": "code",
        "colab": {
          "base_uri": "https://localhost:8080/",
          "height": 0
        },
        "outputId": "c5c3d7ba-ff75-4d05-c002-e288475d2454"
      },
      "source": [
        "#  Variance\n",
        "# Variance is a square of average distance between each values and mean. \n",
        "# That is it is square of standard deviation. It is a measure of how dispersed or spread out the set is, \n",
        "# something that the “average” (mean or median) is not designed to do. \n",
        "# If I tell you a data set has a variance of zero, for example, you know that every member of it is the same. \n",
        "# If the variance is high, especially as a ratio to the mean, \n",
        "# that tells you that the data have some very large dis-similarities amongst its members. \n",
        "# If one considers the mean to be a sort of centre of the data, \n",
        "# the variance tells you how scattered around the centre of mass the points are.\n",
        "#  \n",
        "\n",
        "# Finding the variance\n",
        "print(finance_out[\"Respondent Age\"].var())\n",
        "print(finance_out[\"household_size\"].var())\n"
      ],
      "execution_count": 449,
      "outputs": [
        {
          "output_type": "stream",
          "text": [
            "249.67755522560537\n",
            "4.3232635959998635\n"
          ],
          "name": "stdout"
        }
      ]
    },
    {
      "cell_type": "code",
      "metadata": {
        "id": "v4rxh3gUSMOQ",
        "colab_type": "code",
        "colab": {
          "base_uri": "https://localhost:8080/",
          "height": 0
        },
        "outputId": "5ca1c521-60d0-4691-9220-953030aa9257"
      },
      "source": [
        "#  Range\n",
        "# Range is one of the simplest techniques of descriptive statistics. \n",
        "# It is the difference between lowest and highest value.\n",
        "# ---\n",
        "# Question: What was the range of the ages?\n",
        "\n",
        "\n",
        "# Finding the min and max values of the herbicide average prices\n",
        "respondent_age_max = finance_out[\"Respondent Age\"].max()\n",
        "respondent_age_min = finance_out[\"Respondent Age\"].min()\n",
        "\n",
        "\n",
        "print(respondent_age_min)\n",
        "print(respondent_age_max)\n",
        "# Calculating the range\n",
        "respondent_age_max -respondent_age_min"
      ],
      "execution_count": 450,
      "outputs": [
        {
          "output_type": "stream",
          "text": [
            "16.0\n",
            "83.0\n"
          ],
          "name": "stdout"
        },
        {
          "output_type": "execute_result",
          "data": {
            "text/plain": [
              "67.0"
            ]
          },
          "metadata": {
            "tags": []
          },
          "execution_count": 450
        }
      ]
    },
    {
      "cell_type": "markdown",
      "metadata": {
        "id": "DEh8iSJrTMMd",
        "colab_type": "text"
      },
      "source": [
        "The ages recorded are between 16-81 years hence the range of the ages is 65years "
      ]
    },
    {
      "cell_type": "code",
      "metadata": {
        "id": "I2WL9LCgTLVL",
        "colab_type": "code",
        "colab": {
          "base_uri": "https://localhost:8080/",
          "height": 0
        },
        "outputId": "59b0d822-96b8-467e-e947-0a69f315bdd9"
      },
      "source": [
        "# Question: What was the range of the house hold size?\n",
        "\n",
        "\n",
        "# Finding the min and max values of the herbicide average prices\n",
        "household_size_max = finance_out[\"household_size\"].max()\n",
        "household_size_min = finance_out[\"household_size\"].min()\n",
        "\n",
        "\n",
        "print(household_size_min)\n",
        "print(household_size_max)\n",
        "# Calculating the range\n",
        "household_size_max -household_size_min"
      ],
      "execution_count": 451,
      "outputs": [
        {
          "output_type": "stream",
          "text": [
            "0.0\n",
            "9.0\n"
          ],
          "name": "stdout"
        },
        {
          "output_type": "execute_result",
          "data": {
            "text/plain": [
              "9.0"
            ]
          },
          "metadata": {
            "tags": []
          },
          "execution_count": 451
        }
      ]
    },
    {
      "cell_type": "markdown",
      "metadata": {
        "id": "cXOoC-32UrIp",
        "colab_type": "text"
      },
      "source": [
        "The household are between 0-9 in size hence the range of 9"
      ]
    },
    {
      "cell_type": "markdown",
      "metadata": {
        "id": "6LCuEK6N4yDs",
        "colab_type": "text"
      },
      "source": [
        "# Exploratory Analysis"
      ]
    },
    {
      "cell_type": "markdown",
      "metadata": {
        "id": "L-LBofXPUjX4",
        "colab_type": "text"
      },
      "source": [
        "Univariate Analysis "
      ]
    },
    {
      "cell_type": "code",
      "metadata": {
        "id": "sWNR0sm7aqkb",
        "colab_type": "code",
        "colab": {
          "base_uri": "https://localhost:8080/",
          "height": 295
        },
        "outputId": "1a309be3-19b1-4bc3-845c-a6d9ff60e3c0"
      },
      "source": [
        "#Histogram of ages vs how many were recorded'\n",
        "ages_responses = finance_out['Respondent Age']\n",
        "ages_responses\n",
        "plt.hist(ages_responses, bins=10, histtype='bar', rwidth=0.9)\n",
        "plt.xlabel('The ages')\n",
        "plt.ylabel('Number recorded')\n",
        "plt.title('Histogram of ages vs how many were recorded')\n",
        "plt.show()"
      ],
      "execution_count": 452,
      "outputs": [
        {
          "output_type": "display_data",
          "data": {
            "image/png": "[encoded data removed]",
            "text/plain": [
              "<Figure size 432x288 with 1 Axes>"
            ]
          },
          "metadata": {
            "tags": [],
            "needs_background": "light"
          }
        }
      ]
    },
    {
      "cell_type": "markdown",
      "metadata": {
        "id": "Z4W7Srl4mISa",
        "colab_type": "text"
      },
      "source": [
        "25-35 years of age were the ones recorded most"
      ]
    },
    {
      "cell_type": "code",
      "metadata": {
        "id": "x4CP_vhhYQln",
        "colab_type": "code",
        "colab": {
          "base_uri": "https://localhost:8080/",
          "height": 296
        },
        "outputId": "be46a01a-b901-4b59-ca7e-3fd59ece3478"
      },
      "source": [
        "#Which country was recorded most\n",
        "sns.countplot(finance_out.country, color='pink',saturation=0.7)\n",
        "plt.xlabel('country')\n",
        "plt.ylabel('Count')"
      ],
      "execution_count": 453,
      "outputs": [
        {
          "output_type": "execute_result",
          "data": {
            "text/plain": [
              "Text(0, 0.5, 'Count')"
            ]
          },
          "metadata": {
            "tags": []
          },
          "execution_count": 453
        },
        {
          "output_type": "display_data",
          "data": {
            "image/png": "[encoded data removed]",
            "text/plain": [
              "<Figure size 432x288 with 1 Axes>"
            ]
          },
          "metadata": {
            "tags": [],
            "needs_background": "light"
          }
        }
      ]
    },
    {
      "cell_type": "markdown",
      "metadata": {
        "id": "RbMaOGqnmP2X",
        "colab_type": "text"
      },
      "source": [
        "More data was on Rwanda than any other countries"
      ]
    },
    {
      "cell_type": "code",
      "metadata": {
        "id": "jLn0OOn3qTqc",
        "colab_type": "code",
        "colab": {
          "base_uri": "https://localhost:8080/",
          "height": 118
        },
        "outputId": "762dbb79-502b-4e63-c046-955c479db518"
      },
      "source": [
        " #Distribution of the marital_status in the data \n",
        "finance_out['marital_status'].value_counts()"
      ],
      "execution_count": 454,
      "outputs": [
        {
          "output_type": "execute_result",
          "data": {
            "text/plain": [
              "Married/Living together    10469\n",
              "Single/Never Married        7833\n",
              "Widowed                     2528\n",
              "Divorced/Seperated          2065\n",
              "Dont know                      8\n",
              "Name: marital_status, dtype: int64"
            ]
          },
          "metadata": {
            "tags": []
          },
          "execution_count": 454
        }
      ]
    },
    {
      "cell_type": "code",
      "metadata": {
        "id": "sdDSUV-Qq2xX",
        "colab_type": "code",
        "colab": {
          "base_uri": "https://localhost:8080/",
          "height": 202
        },
        "outputId": "6bcec2a6-5d8a-4c12-c8c4-bf7da0e413a7"
      },
      "source": [
        " #Distribution of the tpe of job in the data \n",
        "finance_out['Type of Job'].value_counts()"
      ],
      "execution_count": 455,
      "outputs": [
        {
          "output_type": "execute_result",
          "data": {
            "text/plain": [
              "Self employed                   6284\n",
              "Informally employed             5527\n",
              "Farming and Fishing             5315\n",
              "Remittance Dependent            2389\n",
              "Formally employed Private       1042\n",
              "Other Income                    1029\n",
              "No Income                        594\n",
              "Formally employed Government     383\n",
              "Government Dependent             221\n",
              "Dont Know/Refuse to answer       119\n",
              "Name: Type of Job, dtype: int64"
            ]
          },
          "metadata": {
            "tags": []
          },
          "execution_count": 455
        }
      ]
    },
    {
      "cell_type": "code",
      "metadata": {
        "id": "lG1ktaULcs73",
        "colab_type": "code",
        "colab": {
          "base_uri": "https://localhost:8080/",
          "height": 101
        },
        "outputId": "52b145dc-d1f0-4e61-91d0-f5e883947e6c"
      },
      "source": [
        "finance_out.columns"
      ],
      "execution_count": 456,
      "outputs": [
        {
          "output_type": "execute_result",
          "data": {
            "text/plain": [
              "Index(['country', 'year', 'Has a Bank account', 'Type of Location',\n",
              "       'Cell Phone Access', 'household_size', 'Respondent Age',\n",
              "       'gender_of_respondent', 'marital_status', 'Level of Educuation',\n",
              "       'Type of Job'],\n",
              "      dtype='object')"
            ]
          },
          "metadata": {
            "tags": []
          },
          "execution_count": 456
        }
      ]
    },
    {
      "cell_type": "code",
      "metadata": {
        "id": "wuVAkk6Rk2e0",
        "colab_type": "code",
        "colab": {
          "base_uri": "https://localhost:8080/",
          "height": 296
        },
        "outputId": "603b7e8f-1d69-4f2e-ed01-5092a4fae37e"
      },
      "source": [
        "sns.countplot(finance_out['Type of Location'], color='green',saturation=0.5)\n",
        "plt.xlabel('Rural / Urban')\n",
        "plt.ylabel('Count')\n"
      ],
      "execution_count": 457,
      "outputs": [
        {
          "output_type": "execute_result",
          "data": {
            "text/plain": [
              "Text(0, 0.5, 'Count')"
            ]
          },
          "metadata": {
            "tags": []
          },
          "execution_count": 457
        },
        {
          "output_type": "display_data",
          "data": {
            "image/png": "[encoded data removed]",
            "text/plain": [
              "<Figure size 432x288 with 1 Axes>"
            ]
          },
          "metadata": {
            "tags": [],
            "needs_background": "light"
          }
        }
      ]
    },
    {
      "cell_type": "markdown",
      "metadata": {
        "id": "xUuWiKPYmcZi",
        "colab_type": "text"
      },
      "source": [
        "More data was recorded in rural areas "
      ]
    },
    {
      "cell_type": "code",
      "metadata": {
        "id": "591_5kfJrFeq",
        "colab_type": "code",
        "colab": {
          "base_uri": "https://localhost:8080/",
          "height": 248
        },
        "outputId": "9410cc66-0dbc-4ae8-a706-d2b9910d5656"
      },
      "source": [
        "#Are the respondents more females or males?\n",
        "\n",
        "finances = finance_out[['country','gender_of_respondent']]\n",
        "new_df = finances.groupby('gender_of_respondent')['country'].count()\n",
        "new_df =pd.DataFrame({'gender_of_respondent':new_df.index, 'country':new_df.values})\n",
        "new_df\n",
        "country= new_df['country']\n",
        "bank_account= new_df['gender_of_respondent']\n",
        "plt.pie(country, labels=bank_account, autopct='%1.1f%%', shadow=True, startangle=140)\n",
        "plt.axis('equal')\n",
        "plt.show()"
      ],
      "execution_count": 458,
      "outputs": [
        {
          "output_type": "display_data",
          "data": {
            "image/png": "[encoded data removed]",
            "text/plain": [
              "<Figure size 432x288 with 1 Axes>"
            ]
          },
          "metadata": {
            "tags": []
          }
        }
      ]
    },
    {
      "cell_type": "markdown",
      "metadata": {
        "id": "2ownH506kAW6",
        "colab_type": "text"
      },
      "source": [
        "More females underwent the analysis than male "
      ]
    },
    {
      "cell_type": "code",
      "metadata": {
        "id": "f34OK23ae0QP",
        "colab_type": "code",
        "colab": {
          "base_uri": "https://localhost:8080/",
          "height": 248
        },
        "outputId": "de5f0f09-46df-45b5-a338-cc0a4d385e6c"
      },
      "source": [
        "#Do the respondents have more cell_phone access\n",
        "\n",
        "finances = finance_out[['country','Cell Phone Access']]\n",
        "new_df = finances.groupby('Cell Phone Access')['country'].count()\n",
        "new_df =pd.DataFrame({'Cell Phone Access':new_df.index, 'country':new_df.values})\n",
        "new_df\n",
        "country= new_df['country']\n",
        "bank_account= new_df['Cell Phone Access']\n",
        "plt.pie(country, labels=bank_account, autopct='%1.1f%%', shadow=True, startangle=140)\n",
        "plt.axis('equal')\n",
        "plt.show()"
      ],
      "execution_count": 459,
      "outputs": [
        {
          "output_type": "display_data",
          "data": {
            "image/png": "[encoded data removed]",
            "text/plain": [
              "<Figure size 432x288 with 1 Axes>"
            ]
          },
          "metadata": {
            "tags": []
          }
        }
      ]
    },
    {
      "cell_type": "markdown",
      "metadata": {
        "id": "hqadLADfo3iK",
        "colab_type": "text"
      },
      "source": [
        "More people have cellphone access than those that don't"
      ]
    },
    {
      "cell_type": "code",
      "metadata": {
        "id": "luutXBlOY5SS",
        "colab_type": "code",
        "colab": {
          "base_uri": "https://localhost:8080/",
          "height": 248
        },
        "outputId": "4d300395-9184-4e21-802a-2dccbc1c5f7c"
      },
      "source": [
        "# Do most of the respondents have bank account?\n",
        "finances = finance_out[['country','Has a Bank account']]\n",
        "new_df = finances.groupby('Has a Bank account')['country'].count()\n",
        "new_df =pd.DataFrame({'Has a Bank account':new_df.index, 'country':new_df.values})\n",
        "new_df\n",
        "country= new_df['country']\n",
        "bank_account= new_df['Has a Bank account']\n",
        "plt.pie(country, labels=bank_account, autopct='%1.1f%%', shadow=True, startangle=140)\n",
        "plt.axis('equal')\n",
        "plt.show()"
      ],
      "execution_count": 460,
      "outputs": [
        {
          "output_type": "display_data",
          "data": {
            "image/png": "[encoded data removed]",
            "text/plain": [
              "<Figure size 432x288 with 1 Axes>"
            ]
          },
          "metadata": {
            "tags": []
          }
        }
      ]
    },
    {
      "cell_type": "markdown",
      "metadata": {
        "id": "wiuPpOdglzqf",
        "colab_type": "text"
      },
      "source": [
        "Bivariate Analysis "
      ]
    },
    {
      "cell_type": "code",
      "metadata": {
        "id": "pe8n15xX1ocZ",
        "colab_type": "code",
        "colab": {}
      },
      "source": [
        "ageshousehold = finance_out[['Respondent Age', 'household_size']]"
      ],
      "execution_count": 461,
      "outputs": []
    },
    {
      "cell_type": "markdown",
      "metadata": {
        "id": "tnwgyzzHl6qC",
        "colab_type": "text"
      },
      "source": [
        "pairplots for ages and household sizes"
      ]
    },
    {
      "cell_type": "code",
      "metadata": {
        "id": "-gDMr5yIUWo_",
        "colab_type": "code",
        "colab": {
          "base_uri": "https://localhost:8080/",
          "height": 387
        },
        "outputId": "c3fc75dd-40be-4354-fb18-8c6625f2f000"
      },
      "source": [
        "sns.pairplot(ageshousehold)\n",
        "plt.show()"
      ],
      "execution_count": 462,
      "outputs": [
        {
          "output_type": "display_data",
          "data": {
            "image/png": "[encoded data removed]",
            "text/plain": [
              "<Figure size 360x360 with 6 Axes>"
            ]
          },
          "metadata": {
            "tags": [],
            "needs_background": "light"
          }
        }
      ]
    },
    {
      "cell_type": "code",
      "metadata": {
        "id": "vmsLWIEJ4kK4",
        "colab_type": "code",
        "colab": {
          "base_uri": "https://localhost:8080/",
          "height": 270
        },
        "outputId": "725f5ca3-3a0b-49c1-bc31-4fb0ec3282e0"
      },
      "source": [
        "#Heat map on respondent Age and household size\n",
        "sns.heatmap(ageshousehold.corr(),annot=True)\n",
        "plt.show()"
      ],
      "execution_count": 463,
      "outputs": [
        {
          "output_type": "display_data",
          "data": {
            "image/png": "[encoded data removed]",
            "text/plain": [
              "<Figure size 432x288 with 2 Axes>"
            ]
          },
          "metadata": {
            "tags": [],
            "needs_background": "light"
          }
        }
      ]
    },
    {
      "cell_type": "code",
      "metadata": {
        "id": "gku0unRzwZOf",
        "colab_type": "code",
        "colab": {
          "base_uri": "https://localhost:8080/",
          "height": 295
        },
        "outputId": "bf3a4842-1317-426c-8f46-06cef9fb2785"
      },
      "source": [
        "#Question: Create a scatter plot between household and ages- \n",
        "# What is the basic relationship between these variables using just visual inspection?\n",
        "\n",
        "\n",
        "# Plotting our scatterplot\n",
        "plt.scatter(finance_out['Respondent Age'], finance_out['household_size'])\n",
        "\n",
        "# Giving our scatterplot a title\n",
        "plt.title('respondent age vs household_size')\n",
        "\n",
        "# Labelling our x axis\n",
        "plt.xlabel('Ages')\n",
        "\n",
        "# Labelling our y axis\n",
        "plt.ylabel('Household size')\n",
        "\n",
        "# Displaying our scatterplot\n",
        "plt.show()\n",
        "\n",
        "# There is no relation because the points are scattered throughout the graph."
      ],
      "execution_count": 464,
      "outputs": [
        {
          "output_type": "display_data",
          "data": {
            "image/png": "[encoded data removed]",
            "text/plain": [
              "<Figure size 432x288 with 1 Axes>"
            ]
          },
          "metadata": {
            "tags": [],
            "needs_background": "light"
          }
        }
      ]
    },
    {
      "cell_type": "code",
      "metadata": {
        "id": "j6yw4sQsKSEB",
        "colab_type": "code",
        "colab": {
          "base_uri": "https://localhost:8080/",
          "height": 321
        },
        "outputId": "cb08f60d-febe-4b6e-9481-98ab5ffd2b6d"
      },
      "source": [
        "\n",
        "#Showing descriptive statistics from researchpy.summary_cont()\n",
        "# --- \n",
        "!pip install researchpy\n",
        "import researchpy as rp\n",
        "\n",
        "\n",
        "rp.summary_cont(finance.groupby(\"Has a Bank account\")['Respondent Age'])\n",
        "\n"
      ],
      "execution_count": 465,
      "outputs": [
        {
          "output_type": "stream",
          "text": [
            "Requirement already satisfied: researchpy in /usr/local/lib/python3.6/dist-packages (0.2.3)\n",
            "Requirement already satisfied: numpy in /usr/local/lib/python3.6/dist-packages (from researchpy) (1.18.5)\n",
            "Requirement already satisfied: scipy in /usr/local/lib/python3.6/dist-packages (from researchpy) (1.4.1)\n",
            "Requirement already satisfied: pandas in /usr/local/lib/python3.6/dist-packages (from researchpy) (1.0.5)\n",
            "Requirement already satisfied: statsmodels in /usr/local/lib/python3.6/dist-packages (from researchpy) (0.10.2)\n",
            "Requirement already satisfied: python-dateutil>=2.6.1 in /usr/local/lib/python3.6/dist-packages (from pandas->researchpy) (2.8.1)\n",
            "Requirement already satisfied: pytz>=2017.2 in /usr/local/lib/python3.6/dist-packages (from pandas->researchpy) (2018.9)\n",
            "Requirement already satisfied: patsy>=0.4.0 in /usr/local/lib/python3.6/dist-packages (from statsmodels->researchpy) (0.5.1)\n",
            "Requirement already satisfied: six>=1.5 in /usr/local/lib/python3.6/dist-packages (from python-dateutil>=2.6.1->pandas->researchpy) (1.15.0)\n",
            "\n",
            "\n"
          ],
          "name": "stdout"
        },
        {
          "output_type": "execute_result",
          "data": {
            "text/html": [
              "<div>\n",
              "<style scoped>\n",
              "    .dataframe tbody tr th:only-of-type {\n",
              "        vertical-align: middle;\n",
              "    }\n",
              "\n",
              "    .dataframe tbody tr th {\n",
              "        vertical-align: top;\n",
              "    }\n",
              "\n",
              "    .dataframe thead th {\n",
              "        text-align: right;\n",
              "    }\n",
              "</style>\n",
              "<table border=\"1\" class=\"dataframe\">\n",
              "  <thead>\n",
              "    <tr style=\"text-align: right;\">\n",
              "      <th></th>\n",
              "      <th>N</th>\n",
              "      <th>Mean</th>\n",
              "      <th>SD</th>\n",
              "      <th>SE</th>\n",
              "      <th>95% Conf.</th>\n",
              "      <th>Interval</th>\n",
              "    </tr>\n",
              "    <tr>\n",
              "      <th>Has a Bank account</th>\n",
              "      <th></th>\n",
              "      <th></th>\n",
              "      <th></th>\n",
              "      <th></th>\n",
              "      <th></th>\n",
              "      <th></th>\n",
              "    </tr>\n",
              "  </thead>\n",
              "  <tbody>\n",
              "    <tr>\n",
              "      <th>No</th>\n",
              "      <td>20197</td>\n",
              "      <td>38.6722</td>\n",
              "      <td>16.8447</td>\n",
              "      <td>0.1185</td>\n",
              "      <td>38.4399</td>\n",
              "      <td>38.9045</td>\n",
              "    </tr>\n",
              "    <tr>\n",
              "      <th>Yes</th>\n",
              "      <td>3324</td>\n",
              "      <td>39.5650</td>\n",
              "      <td>14.3405</td>\n",
              "      <td>0.2487</td>\n",
              "      <td>39.0773</td>\n",
              "      <td>40.0527</td>\n",
              "    </tr>\n",
              "  </tbody>\n",
              "</table>\n",
              "</div>"
            ],
            "text/plain": [
              "                        N     Mean       SD      SE  95% Conf.  Interval\n",
              "Has a Bank account                                                      \n",
              "No                  20197  38.6722  16.8447  0.1185    38.4399   38.9045\n",
              "Yes                  3324  39.5650  14.3405  0.2487    39.0773   40.0527"
            ]
          },
          "metadata": {
            "tags": []
          },
          "execution_count": 465
        }
      ]
    },
    {
      "cell_type": "markdown",
      "metadata": {
        "id": "6XFfVWs5WJ16",
        "colab_type": "text"
      },
      "source": [
        "Multi-variate analysis "
      ]
    },
    {
      "cell_type": "code",
      "metadata": {
        "id": "6dOzlf_ZD5sK",
        "colab_type": "code",
        "colab": {}
      },
      "source": [
        "finance_out = finance1"
      ],
      "execution_count": 466,
      "outputs": []
    },
    {
      "cell_type": "code",
      "metadata": {
        "id": "enSQgEe4flMt",
        "colab_type": "code",
        "colab": {}
      },
      "source": [
        "from sklearn.preprocessing import LabelEncoder\n",
        "lb=LabelEncoder()\n",
        "finance1['country']=lb.fit_transform(finance1['country'].astype(str))\n",
        "finance1['Type of Location']=lb.fit_transform(finance1['Type of Location'].astype(str))\n",
        "finance1['Cell Phone Access']=lb.fit_transform(finance1['Cell Phone Access'].astype(str))\n",
        "finance1['gender_of_respondent']=lb.fit_transform(finance1['gender_of_respondent'].astype(str))\n",
        "finance1['marital_status']=lb.fit_transform(finance1['marital_status'].astype(str))\n",
        "finance1['Level of Educuation']=lb.fit_transform(finance1['Level of Educuation'].astype(str))\n",
        "finance1['Type of Job']=lb.fit_transform(finance1['Type of Job'].astype(str))"
      ],
      "execution_count": 467,
      "outputs": []
    },
    {
      "cell_type": "code",
      "metadata": {
        "id": "ZC4gLJnOg0QG",
        "colab_type": "code",
        "colab": {
          "base_uri": "https://localhost:8080/",
          "height": 229
        },
        "outputId": "ad4225f8-bd24-4568-88dd-b5094190165c"
      },
      "source": [
        "finance1.head()"
      ],
      "execution_count": 468,
      "outputs": [
        {
          "output_type": "execute_result",
          "data": {
            "text/html": [
              "<div>\n",
              "<style scoped>\n",
              "    .dataframe tbody tr th:only-of-type {\n",
              "        vertical-align: middle;\n",
              "    }\n",
              "\n",
              "    .dataframe tbody tr th {\n",
              "        vertical-align: top;\n",
              "    }\n",
              "\n",
              "    .dataframe thead th {\n",
              "        text-align: right;\n",
              "    }\n",
              "</style>\n",
              "<table border=\"1\" class=\"dataframe\">\n",
              "  <thead>\n",
              "    <tr style=\"text-align: right;\">\n",
              "      <th></th>\n",
              "      <th>country</th>\n",
              "      <th>year</th>\n",
              "      <th>Has a Bank account</th>\n",
              "      <th>Type of Location</th>\n",
              "      <th>Cell Phone Access</th>\n",
              "      <th>household_size</th>\n",
              "      <th>Respondent Age</th>\n",
              "      <th>gender_of_respondent</th>\n",
              "      <th>marital_status</th>\n",
              "      <th>Level of Educuation</th>\n",
              "      <th>Type of Job</th>\n",
              "    </tr>\n",
              "  </thead>\n",
              "  <tbody>\n",
              "    <tr>\n",
              "      <th>0</th>\n",
              "      <td>0</td>\n",
              "      <td>2018</td>\n",
              "      <td>1</td>\n",
              "      <td>0</td>\n",
              "      <td>1</td>\n",
              "      <td>3.0</td>\n",
              "      <td>24.0</td>\n",
              "      <td>0</td>\n",
              "      <td>2</td>\n",
              "      <td>4</td>\n",
              "      <td>9</td>\n",
              "    </tr>\n",
              "    <tr>\n",
              "      <th>1</th>\n",
              "      <td>0</td>\n",
              "      <td>2018</td>\n",
              "      <td>0</td>\n",
              "      <td>0</td>\n",
              "      <td>0</td>\n",
              "      <td>5.0</td>\n",
              "      <td>70.0</td>\n",
              "      <td>0</td>\n",
              "      <td>4</td>\n",
              "      <td>1</td>\n",
              "      <td>4</td>\n",
              "    </tr>\n",
              "    <tr>\n",
              "      <th>2</th>\n",
              "      <td>0</td>\n",
              "      <td>2018</td>\n",
              "      <td>1</td>\n",
              "      <td>1</td>\n",
              "      <td>1</td>\n",
              "      <td>5.0</td>\n",
              "      <td>26.0</td>\n",
              "      <td>1</td>\n",
              "      <td>3</td>\n",
              "      <td>6</td>\n",
              "      <td>9</td>\n",
              "    </tr>\n",
              "    <tr>\n",
              "      <th>3</th>\n",
              "      <td>0</td>\n",
              "      <td>2018</td>\n",
              "      <td>0</td>\n",
              "      <td>0</td>\n",
              "      <td>1</td>\n",
              "      <td>5.0</td>\n",
              "      <td>34.0</td>\n",
              "      <td>0</td>\n",
              "      <td>2</td>\n",
              "      <td>3</td>\n",
              "      <td>3</td>\n",
              "    </tr>\n",
              "    <tr>\n",
              "      <th>4</th>\n",
              "      <td>0</td>\n",
              "      <td>2018</td>\n",
              "      <td>0</td>\n",
              "      <td>1</td>\n",
              "      <td>0</td>\n",
              "      <td>8.0</td>\n",
              "      <td>26.0</td>\n",
              "      <td>1</td>\n",
              "      <td>3</td>\n",
              "      <td>3</td>\n",
              "      <td>5</td>\n",
              "    </tr>\n",
              "  </tbody>\n",
              "</table>\n",
              "</div>"
            ],
            "text/plain": [
              "   country  year  ...  Level of Educuation  Type of Job\n",
              "0        0  2018  ...                    4            9\n",
              "1        0  2018  ...                    1            4\n",
              "2        0  2018  ...                    6            9\n",
              "3        0  2018  ...                    3            3\n",
              "4        0  2018  ...                    3            5\n",
              "\n",
              "[5 rows x 11 columns]"
            ]
          },
          "metadata": {
            "tags": []
          },
          "execution_count": 468
        }
      ]
    },
    {
      "cell_type": "code",
      "metadata": {
        "id": "O8-RDOReC1TQ",
        "colab_type": "code",
        "colab": {
          "base_uri": "https://localhost:8080/",
          "height": 437
        },
        "outputId": "d6f70fa0-d0d4-4237-b70b-a8ccaf0467e1"
      },
      "source": [
        "for i in finance_out.columns:\n",
        "    print(i,finance_out[i].unique())\n",
        "    print(\"-----------------------------------------------------\")"
      ],
      "execution_count": 469,
      "outputs": [
        {
          "output_type": "stream",
          "text": [
            "country [0 1 2 3]\n",
            "-----------------------------------------------------\n",
            "year [2018 2016 2017]\n",
            "-----------------------------------------------------\n",
            "Has a Bank account [1 0]\n",
            "-----------------------------------------------------\n",
            "Type of Location [0 1]\n",
            "-----------------------------------------------------\n",
            "Cell Phone Access [1 0]\n",
            "-----------------------------------------------------\n",
            "household_size [3. 5. 8. 7. 1. 6. 4. 2. 9. 0.]\n",
            "-----------------------------------------------------\n",
            "Respondent Age [24. 70. 26. 34. 32. 42. 54. 76. 40. 69. 64. 31. 38. 47. 27. 48. 25. 21.\n",
            " 18. 22. 58. 55. 62. 29. 35. 45. 67. 19. 80. 66. 50. 33. 28. 51. 16. 17.\n",
            " 30. 37. 59. 65. 46. 56. 52. 43. 49. 44. 72. 53. 63. 39. 81. 78. 36. 20.\n",
            " 60. 23. 71. 57. 68. 41. 61. 75. 73. 74. 77. 82. 79. 83.]\n",
            "-----------------------------------------------------\n",
            "gender_of_respondent [0 1]\n",
            "-----------------------------------------------------\n",
            "marital_status [2 4 3 0 1]\n",
            "-----------------------------------------------------\n",
            "Level of Educuation [4 1 6 3 5 2 0]\n",
            "-----------------------------------------------------\n",
            "Type of Job [9 4 3 5 2 1 8 7 0 6]\n",
            "-----------------------------------------------------\n"
          ],
          "name": "stdout"
        }
      ]
    },
    {
      "cell_type": "code",
      "metadata": {
        "id": "Q1GI9gLrPBuM",
        "colab_type": "code",
        "colab": {}
      },
      "source": [
        ""
      ],
      "execution_count": 469,
      "outputs": []
    },
    {
      "cell_type": "markdown",
      "metadata": {
        "id": "YQwuNrScPC5b",
        "colab_type": "text"
      },
      "source": [
        "Using Reduction"
      ]
    },
    {
      "cell_type": "markdown",
      "metadata": {
        "id": "oYK4UlcRPOBv",
        "colab_type": "text"
      },
      "source": [
        "Pricipal Component analysis"
      ]
    },
    {
      "cell_type": "code",
      "metadata": {
        "id": "LcVB1geLI0rf",
        "colab_type": "code",
        "colab": {}
      },
      "source": [
        "X = finance1.drop('Has a Bank account', 1)\n",
        "y = finance1['Has a Bank account']"
      ],
      "execution_count": 470,
      "outputs": []
    },
    {
      "cell_type": "code",
      "metadata": {
        "id": "7HsckKwUJIAq",
        "colab_type": "code",
        "colab": {}
      },
      "source": [
        "from sklearn.model_selection import train_test_split\n",
        "\n",
        "X_train, X_test, y_train, y_test = train_test_split(X, y, test_size=0.2, random_state=0)"
      ],
      "execution_count": 471,
      "outputs": []
    },
    {
      "cell_type": "code",
      "metadata": {
        "id": "7oyWjYVfNo2J",
        "colab_type": "code",
        "colab": {}
      },
      "source": [
        "from sklearn.preprocessing import StandardScaler\n",
        "\n",
        "sc = StandardScaler()\n",
        "X_train = sc.fit_transform(X_train)\n",
        "X_test = sc.transform(X_test)\n"
      ],
      "execution_count": 472,
      "outputs": []
    },
    {
      "cell_type": "code",
      "metadata": {
        "id": "UNulp8tjNx8R",
        "colab_type": "code",
        "colab": {}
      },
      "source": [
        "from sklearn.decomposition import PCA\n",
        "\n",
        "pca = PCA()\n",
        "X_train = pca.fit_transform(X_train)\n",
        "X_test = pca.transform(X_test)"
      ],
      "execution_count": 473,
      "outputs": []
    },
    {
      "cell_type": "code",
      "metadata": {
        "id": "kfQ2zm7GN3QV",
        "colab_type": "code",
        "colab": {
          "base_uri": "https://localhost:8080/",
          "height": 50
        },
        "outputId": "bee303b5-4510-4e9e-b6e1-d638da45e36c"
      },
      "source": [
        "# Step 7: Explained Variance Ratio\n",
        "# The PCA class contains explained_variance_ratio_ which returns the variance caused by each of the principal components. \n",
        "# We execute the following line of code to find the \"explained variance ratio\".\n",
        "# \n",
        "explained_variance = pca.explained_variance_ratio_\n",
        "\n",
        "# The explained_variance variable is now a float type array which contains variance ratios for each principal component. \n",
        "# The values for the explained_variance variable looks like what is shown in the output. \n",
        "# It can be seen that first principal component is responsible for 19.89% variance. \n",
        "# Similarly, the second principal component causes 16.50% variance in the dataset. \n",
        "# Collectively we can say that (19.89 + 16.50) 96.21% percent of the classification information contained \n",
        "# in the feature set is captured by the first two principal components.\n",
        "explained_variance"
      ],
      "execution_count": 474,
      "outputs": [
        {
          "output_type": "execute_result",
          "data": {
            "text/plain": [
              "array([0.19885392, 0.16499947, 0.11611492, 0.10377443, 0.09536507,\n",
              "       0.07938728, 0.0747308 , 0.06678005, 0.05505921, 0.04493486])"
            ]
          },
          "metadata": {
            "tags": []
          },
          "execution_count": 474
        }
      ]
    },
    {
      "cell_type": "code",
      "metadata": {
        "id": "udF4q3vQOBul",
        "colab_type": "code",
        "colab": {}
      },
      "source": [
        "# Step 8: Using 1 Principal Component\n",
        "# Let's first try to use 1 principal component to train our algorithm. To do so, execute the following code:\n",
        "# \n",
        "from sklearn.decomposition import PCA\n",
        "\n",
        "pca = PCA(n_components=1)\n",
        "X_train = pca.fit_transform(X_train)\n",
        "X_test = pca.transform(X_test)"
      ],
      "execution_count": 475,
      "outputs": []
    },
    {
      "cell_type": "code",
      "metadata": {
        "id": "h6kc7mKnOOqn",
        "colab_type": "code",
        "colab": {}
      },
      "source": [
        "# Step 9: Training and Making Predictions\n",
        "# In this case we'll use random forest classification for making the predictions.\n",
        "# \n",
        "from sklearn.ensemble import RandomForestClassifier\n",
        "\n",
        "classifier = RandomForestClassifier(max_depth=2, random_state=0)\n",
        "classifier.fit(X_train, y_train)\n",
        "\n",
        "# Predicting the Test set results\n",
        "y_pred = classifier.predict(X_test)"
      ],
      "execution_count": 476,
      "outputs": []
    },
    {
      "cell_type": "code",
      "metadata": {
        "id": "4kNVGIlPOXS7",
        "colab_type": "code",
        "colab": {
          "base_uri": "https://localhost:8080/",
          "height": 67
        },
        "outputId": "9056441c-2cf5-4c6a-9c9d-44f0d9f7bd7e"
      },
      "source": [
        "# Step 10: Performance Evaluation\n",
        "# \n",
        "from sklearn.metrics import confusion_matrix\n",
        "from sklearn.metrics import accuracy_score\n",
        "\n",
        "cm = confusion_matrix(y_test, y_pred)\n",
        "print(cm)\n",
        "print('Accuracy' , accuracy_score(y_test, y_pred))"
      ],
      "execution_count": 477,
      "outputs": [
        {
          "output_type": "stream",
          "text": [
            "[[3934    0]\n",
            " [ 647    0]]\n",
            "Accuracy 0.8587644619078804\n"
          ],
          "name": "stdout"
        }
      ]
    },
    {
      "cell_type": "markdown",
      "metadata": {
        "id": "pw-w3B74RHv4",
        "colab_type": "text"
      },
      "source": [
        "Using the variables given having a bank account can be predicted at an accuracy of 85.88% in later years "
      ]
    },
    {
      "cell_type": "code",
      "metadata": {
        "id": "hrMLSVcpRGus",
        "colab_type": "code",
        "colab": {
          "base_uri": "https://localhost:8080/",
          "height": 296
        },
        "outputId": "d5f6f9eb-9ed5-4977-f0c0-1d79a8a378f4"
      },
      "source": [
        "sns.barplot(x= 'country', y ='Cell Phone Access',data= finance1, hue='Has a Bank account')"
      ],
      "execution_count": 478,
      "outputs": [
        {
          "output_type": "execute_result",
          "data": {
            "text/plain": [
              "<matplotlib.axes._subplots.AxesSubplot at 0x7f57ff20fe10>"
            ]
          },
          "metadata": {
            "tags": []
          },
          "execution_count": 478
        },
        {
          "output_type": "display_data",
          "data": {
            "image/png": "[encoded data removed]",
            "text/plain": [
              "<Figure size 432x288 with 1 Axes>"
            ]
          },
          "metadata": {
            "tags": [],
            "needs_background": "light"
          }
        }
      ]
    },
    {
      "cell_type": "markdown",
      "metadata": {
        "id": "EupT0kYaZpwl",
        "colab_type": "text"
      },
      "source": [
        "Most of those with bank accounts have cellphone access except for country 2 which is Uganda whivh has both low cellphone access and low bank accounts"
      ]
    },
    {
      "cell_type": "code",
      "metadata": {
        "id": "aWhtxipFZV7i",
        "colab_type": "code",
        "colab": {
          "base_uri": "https://localhost:8080/",
          "height": 296
        },
        "outputId": "1e9adfea-4ea7-4367-a887-b728a725965e"
      },
      "source": [
        "sns.barplot(x= 'Type of Location', y ='Type of Job',data= finance1, hue='Has a Bank account')"
      ],
      "execution_count": 479,
      "outputs": [
        {
          "output_type": "execute_result",
          "data": {
            "text/plain": [
              "<matplotlib.axes._subplots.AxesSubplot at 0x7f57eab8d160>"
            ]
          },
          "metadata": {
            "tags": []
          },
          "execution_count": 479
        },
        {
          "output_type": "display_data",
          "data": {
            "image/png": "[encoded data removed]",
            "text/plain": [
              "<Figure size 432x288 with 1 Axes>"
            ]
          },
          "metadata": {
            "tags": [],
            "needs_background": "light"
          }
        }
      ]
    },
    {
      "cell_type": "markdown",
      "metadata": {
        "id": "6FRT44Lc5AcL",
        "colab_type": "text"
      },
      "source": [
        "# Implementing the solution "
      ]
    },
    {
      "cell_type": "code",
      "metadata": {
        "id": "zwvqugy6aH88",
        "colab_type": "code",
        "colab": {
          "base_uri": "https://localhost:8080/",
          "height": 0
        },
        "outputId": "c852c7d9-83de-42f8-dba1-8c6262f66163"
      },
      "source": [
        "finance1.columns"
      ],
      "execution_count": 480,
      "outputs": [
        {
          "output_type": "execute_result",
          "data": {
            "text/plain": [
              "Index(['country', 'year', 'Has a Bank account', 'Type of Location',\n",
              "       'Cell Phone Access', 'household_size', 'Respondent Age',\n",
              "       'gender_of_respondent', 'marital_status', 'Level of Educuation',\n",
              "       'Type of Job'],\n",
              "      dtype='object')"
            ]
          },
          "metadata": {
            "tags": []
          },
          "execution_count": 480
        }
      ]
    },
    {
      "cell_type": "code",
      "metadata": {
        "id": "VHKfzrf4c3Vo",
        "colab_type": "code",
        "colab": {}
      },
      "source": [
        "finance1['Has a Bank account']=lb.fit_transform(finance1['Has a Bank account'].astype(str))"
      ],
      "execution_count": 481,
      "outputs": []
    },
    {
      "cell_type": "code",
      "metadata": {
        "id": "aGzND2e4YZnH",
        "colab_type": "code",
        "colab": {}
      },
      "source": [
        "rest = finance1[['Has a Bank account', 'Type of Location', 'country', 'Cell Phone Access', 'gender_of_respondent', 'marital_status', 'Type of Job']]"
      ],
      "execution_count": 482,
      "outputs": []
    },
    {
      "cell_type": "code",
      "metadata": {
        "id": "3X2G8e9w5Sbs",
        "colab_type": "code",
        "colab": {
          "base_uri": "https://localhost:8080/",
          "height": 0
        },
        "outputId": "d34df5f3-154e-45f3-e122-e65c3bbcb294"
      },
      "source": [
        "sns.heatmap(rest.corr(),annot=True)\n",
        "plt.show()"
      ],
      "execution_count": 483,
      "outputs": [
        {
          "output_type": "display_data",
          "data": {
            "image/png": "[encoded data removed]",
            "text/plain": [
              "<Figure size 432x288 with 2 Axes>"
            ]
          },
          "metadata": {
            "tags": [],
            "needs_background": "light"
          }
        }
      ]
    },
    {
      "cell_type": "markdown",
      "metadata": {
        "id": "y4bdv3axeMYr",
        "colab_type": "text"
      },
      "source": [
        "None of the variables have any relationship with opening and closing a bankaccount as they are not correlated \n",
        "1\n",
        "\n",
        "Each square shows the correlation between the variables on each axis. Correlation ranges from -1 to +1. Values closer to zero means there is no linear trend between the two variables. The close to 1 the correlation is the more positively correlated they are; that is as one increases so does the other and the closer to 1 the stronger this relationship is. A correlation closer to -1 is similar, but instead of both increasing one variable will decrease as the other increases. The diagonals are all light purple because those squares are correlating each variable to itself (so it's a perfect correlation). For the rest the larger the number and darker the color the higher the correlation between the two variables. The plot is also symmetrical about the diagonal since the same two variables are being paired together in those squares."
      ]
    },
    {
      "cell_type": "markdown",
      "metadata": {
        "id": "Gt3VUfoo5bgb",
        "colab_type": "text"
      },
      "source": [
        "# Challenging the solution"
      ]
    },
    {
      "cell_type": "markdown",
      "metadata": {
        "id": "QfLf5zeIfDim",
        "colab_type": "text"
      },
      "source": [
        "Corrrellation and pca are not very valid for performing predition and finding relationships more coding could be done "
      ]
    },
    {
      "cell_type": "markdown",
      "metadata": {
        "id": "WIHnbZaG5xQ8",
        "colab_type": "text"
      },
      "source": [
        "# Follow-up questions"
      ]
    },
    {
      "cell_type": "markdown",
      "metadata": {
        "id": "5pNMCCMmflPq",
        "colab_type": "text"
      },
      "source": [
        "What other factors do they think affects opening a bank account? "
      ]
    }
  ]
}